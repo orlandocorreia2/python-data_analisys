{
 "cells": [
  {
   "cell_type": "markdown",
   "metadata": {},
   "source": [
    "# Python Insights - Analisando Dados com Python\n",
    "\n",
    "### Case - Cancelamento de Clientes\n",
    "\n",
    "Você foi contratado por uma empresa com mais de 800 mil clientes para um projeto de Dados. Recentemente a empresa percebeu que da sua base total de clientes, a maioria são clientes inativos, ou seja, que já cancelaram o serviço.\n",
    "\n",
    "Precisando melhorar seus resultados ela quer conseguir entender os principais motivos desses cancelamentos e quais as ações mais eficientes para reduzir esse número.\n",
    "\n",
    "Base de dados e arquivos: https://drive.google.com/drive/folders/1uDesZePdkhiraJmiyeZ-w5tfc8XsNYFZ?usp=drive_link"
   ]
  },
  {
   "cell_type": "code",
   "execution_count": null,
   "metadata": {},
   "outputs": [],
   "source": [
    "# !pip install pandas openpyxl numpy nbformat plotly ipykernel\n",
    "import pandas as pd\n",
    "\n",
    "table = pd.read_csv('cancelamentos.csv')\n",
    "table = table.drop(columns=\"CustomerID\")\n",
    "\n",
    "display(table)\n",
    "display(table.info())\n",
    "table = table.dropna()\n",
    "display(table.info())"
   ]
  },
  {
   "cell_type": "code",
   "execution_count": null,
   "metadata": {},
   "outputs": [],
   "source": [
    "display(table[\"cancelou\"].value_counts())\n",
    "\n",
    "display(table[\"cancelou\"].value_counts(normalize=True))\n",
    "# display(table[\"cancelou\"].value_counts(normalize=True).map(\"{:.2%}\".format))"
   ]
  },
  {
   "cell_type": "code",
   "execution_count": null,
   "metadata": {},
   "outputs": [],
   "source": [
    "import plotly.express as px\n",
    "\n",
    "for column in table.columns:\n",
    "    graphic = px.histogram(table, x=column, color=\"cancelou\", text_auto=True)\n",
    "    graphic.show()"
   ]
  },
  {
   "cell_type": "code",
   "execution_count": null,
   "metadata": {},
   "outputs": [],
   "source": [
    "# Clientes com mais de 4 ligações para o call center cancelamtable[\"ligacoes_callcenter\"]>4\n",
    "table = table[table[\"ligacoes_callcenter\"]<=4]\n",
    "# Todos os clientes que atrasaram o pagamento mais de 20 dias cancelaram\n",
    "table = table[table[\"dias_atraso\"]<=20]\n",
    "# Todos os clientes com contrato mensal cancelaram\n",
    "table = table[table[\"duracao_contrato\"]!=\"Monthly\"]\n",
    "\n",
    "display(table[\"cancelou\"].value_counts(normalize=True))\n"
   ]
  }
 ],
 "metadata": {
  "kernelspec": {
   "display_name": "Python 3",
   "language": "python",
   "name": "python3"
  },
  "language_info": {
   "codemirror_mode": {
    "name": "ipython",
    "version": 3
   },
   "file_extension": ".py",
   "mimetype": "text/x-python",
   "name": "python",
   "nbconvert_exporter": "python",
   "pygments_lexer": "ipython3",
   "version": "3.13.7"
  },
  "orig_nbformat": 4
 },
 "nbformat": 4,
 "nbformat_minor": 2
}
